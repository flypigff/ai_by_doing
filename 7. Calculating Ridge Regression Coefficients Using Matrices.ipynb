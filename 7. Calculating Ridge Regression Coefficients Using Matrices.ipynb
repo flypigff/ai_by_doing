{
 "cells": [
  {
   "cell_type": "markdown",
   "metadata": {},
   "source": [
    "这是一个挑战\n",
    "# 使用Python计算岭回归系数\n",
    "\n",
    "在前面的课程中已经知道了岭回归的向量表达式：\n",
    "$$\n",
    "F_{Ridge} = ||y-Xw||_2^2 + \\lambda ||w||_2^2\n",
    "$$\n",
    "\n",
    "以及该向量表达式的解析解：\n",
    "$$\n",
    "w_{Ridge} = (X^TX + \\lambda I)^{-1}X^Ty\n",
    "$$"
   ]
  },
  {
   "cell_type": "code",
   "execution_count": 7,
   "metadata": {},
   "outputs": [],
   "source": [
    "import numpy as np \n",
    "\n",
    "def ridge_regression(X,Y,alpha):\n",
    "    XTX = X.T * X\n",
    "    reg = XTX + alpha * np.eye(XTX.shape[1])\n",
    "    W = reg.I * (X.T * Y)\n",
    "    return W\n"
   ]
  },
  {
   "cell_type": "markdown",
   "metadata": {},
   "source": [
    "下面生成测试数据并计算岭回归系数："
   ]
  },
  {
   "cell_type": "code",
   "execution_count": 8,
   "metadata": {},
   "outputs": [
    {
     "data": {
      "text/plain": [
       "matrix([[ 1.42278923,  2.20583559, -0.6391644 ,  0.64022529, -0.44014758,\n",
       "          1.66307858, -0.83879894, -0.25611354, -0.06951638, -2.56882017]])"
      ]
     },
     "execution_count": 8,
     "metadata": {},
     "output_type": "execute_result"
    }
   ],
   "source": [
    "np.random.seed(10) # 设置随机数种子\n",
    "\n",
    "X = np.matrix(np.random.randint(5, size=(10, 10)))\n",
    "Y = np.matrix(np.random.randint(10, size=(10,1 )))\n",
    "alpha = 0.5\n",
    "\n",
    "ridge_regression(X, Y, alpha).T"
   ]
  },
  {
   "cell_type": "markdown",
   "metadata": {},
   "source": [
    "# 使用scikit-learn库计算岭回归系数\n"
   ]
  },
  {
   "cell_type": "code",
   "execution_count": 11,
   "metadata": {},
   "outputs": [
    {
     "data": {
      "text/plain": [
       "array([[ 1.42278923,  2.20583559, -0.6391644 ,  0.64022529, -0.44014758,\n",
       "         1.66307858, -0.83879894, -0.25611354, -0.06951638, -2.56882017]])"
      ]
     },
     "execution_count": 11,
     "metadata": {},
     "output_type": "execute_result"
    }
   ],
   "source": [
    "from sklearn.linear_model import Ridge\n",
    "\n",
    "def ridge_model(X, Y, alpha):\n",
    "    model = Ridge(alpha=alpha, fit_intercept=False)\n",
    "    X = np.asarray(X)\n",
    "    Y = np.asarray(Y)\n",
    "    model.fit(X, Y)\n",
    "    W = model.coef_\n",
    "    return W\n",
    "\n",
    "ridge_model(X, Y, alpha)"
   ]
  }
 ],
 "metadata": {
  "kernelspec": {
   "display_name": "base",
   "language": "python",
   "name": "python3"
  },
  "language_info": {
   "codemirror_mode": {
    "name": "ipython",
    "version": 3
   },
   "file_extension": ".py",
   "mimetype": "text/x-python",
   "name": "python",
   "nbconvert_exporter": "python",
   "pygments_lexer": "ipython3",
   "version": "3.11.5"
  }
 },
 "nbformat": 4,
 "nbformat_minor": 2
}
