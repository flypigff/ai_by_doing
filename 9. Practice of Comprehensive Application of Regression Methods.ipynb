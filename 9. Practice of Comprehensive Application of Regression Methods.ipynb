{
 "cells": [
  {
   "cell_type": "markdown",
   "metadata": {},
   "source": [
    "这是一个综合测试，将会结合前面学习到的相关回归分析方法，完成一个多元回归分析任务。同时，我们将结合 NumPy，scikit-learn，SciPy，statsmodels 等库，复习不同方法的实现及应用。\n",
    "\n",
    "首先，先下载并预览数据集"
   ]
  },
  {
   "cell_type": "code",
   "execution_count": 3,
   "metadata": {},
   "outputs": [
    {
     "data": {
      "text/html": [
       "<div>\n",
       "<style scoped>\n",
       "    .dataframe tbody tr th:only-of-type {\n",
       "        vertical-align: middle;\n",
       "    }\n",
       "\n",
       "    .dataframe tbody tr th {\n",
       "        vertical-align: top;\n",
       "    }\n",
       "\n",
       "    .dataframe thead th {\n",
       "        text-align: right;\n",
       "    }\n",
       "</style>\n",
       "<table border=\"1\" class=\"dataframe\">\n",
       "  <thead>\n",
       "    <tr style=\"text-align: right;\">\n",
       "      <th></th>\n",
       "      <th>Unnamed: 0</th>\n",
       "      <th>tv</th>\n",
       "      <th>radio</th>\n",
       "      <th>newspaper</th>\n",
       "      <th>sales</th>\n",
       "    </tr>\n",
       "  </thead>\n",
       "  <tbody>\n",
       "    <tr>\n",
       "      <th>0</th>\n",
       "      <td>1</td>\n",
       "      <td>230.1</td>\n",
       "      <td>37.8</td>\n",
       "      <td>69.2</td>\n",
       "      <td>22.1</td>\n",
       "    </tr>\n",
       "    <tr>\n",
       "      <th>1</th>\n",
       "      <td>2</td>\n",
       "      <td>44.5</td>\n",
       "      <td>39.3</td>\n",
       "      <td>45.1</td>\n",
       "      <td>10.4</td>\n",
       "    </tr>\n",
       "    <tr>\n",
       "      <th>2</th>\n",
       "      <td>3</td>\n",
       "      <td>17.2</td>\n",
       "      <td>45.9</td>\n",
       "      <td>69.3</td>\n",
       "      <td>9.3</td>\n",
       "    </tr>\n",
       "    <tr>\n",
       "      <th>3</th>\n",
       "      <td>4</td>\n",
       "      <td>151.5</td>\n",
       "      <td>41.3</td>\n",
       "      <td>58.5</td>\n",
       "      <td>18.5</td>\n",
       "    </tr>\n",
       "    <tr>\n",
       "      <th>4</th>\n",
       "      <td>5</td>\n",
       "      <td>180.8</td>\n",
       "      <td>10.8</td>\n",
       "      <td>58.4</td>\n",
       "      <td>12.9</td>\n",
       "    </tr>\n",
       "  </tbody>\n",
       "</table>\n",
       "</div>"
      ],
      "text/plain": [
       "   Unnamed: 0     tv  radio  newspaper  sales\n",
       "0           1  230.1   37.8       69.2   22.1\n",
       "1           2   44.5   39.3       45.1   10.4\n",
       "2           3   17.2   45.9       69.3    9.3\n",
       "3           4  151.5   41.3       58.5   18.5\n",
       "4           5  180.8   10.8       58.4   12.9"
      ]
     },
     "execution_count": 3,
     "metadata": {},
     "output_type": "execute_result"
    }
   ],
   "source": [
    "import pandas as pd\n",
    "import requests\n",
    "from io import StringIO\n",
    "\n",
    "url = \"https://cdn.aibydoing.com/aibydoing/files/advertising.csv\"\n",
    "\n",
    "# 模拟浏览器头\n",
    "headers = {\n",
    "    \"User-Agent\": \"Mozilla/5.0 (Windows NT 10.0; Win64; x64) AppleWebKit/537.36 (KHTML, like Gecko) Chrome/58.0.3029.110 Safari/537.3\"\n",
    "}\n",
    "\n",
    "# 发送HTTP请求并获取响应\n",
    "response = requests.get(url, headers=headers)\n",
    "\n",
    "# 将响应内容解析为DataFrame\n",
    "df = pd.read_csv(StringIO(response.text))\n",
    "\n",
    "df.head()"
   ]
  },
  {
   "cell_type": "markdown",
   "metadata": {},
   "source": [
    "数据集包含 4 列，共 200 行。每个样本代表某超市销售相应单位件商品所需要支出的广告费用。以第一行为例，表示该超市平均销售 22.1 件商品，需要支出的电视广告费用，广播广告费用以及报刊广告费用为：230.1 美元，37.8 美元和 69.2 美元。\n",
    "\n",
    "所以，本次挑战将前 3 列视作特征，最后一列视作目标值。"
   ]
  },
  {
   "cell_type": "code",
   "execution_count": 12,
   "metadata": {},
   "outputs": [
    {
     "data": {
      "text/plain": [
       "(array([7.03259355, 0.04753664]),\n",
       " array([9.31163812, 0.20249578]),\n",
       " array([12.35140704,  0.0546931 ]))"
      ]
     },
     "execution_count": 12,
     "metadata": {},
     "output_type": "execute_result"
    }
   ],
   "source": [
    "import numpy as np\n",
    "from scipy.optimize import leastsq\n",
    "\n",
    "p_init = np.random.rand(2)\n",
    "\n",
    "def func(p, x):\n",
    "    a, b = p\n",
    "    return a + x*b\n",
    "\n",
    "def err_func(p, x, y):\n",
    "    return func(p, x) - y\n",
    "\n",
    "params_tv = leastsq(err_func, p_init, args=(df.tv, df.sales))\n",
    "params_radio = leastsq(err_func, p_init, args=(df.radio, df.sales))\n",
    "params_newspaper = leastsq(err_func, p_init, args=(df.newspaper, df.sales))\n",
    "\n",
    "params_tv[0], params_radio[0], params_newspaper[0]"
   ]
  },
  {
   "cell_type": "markdown",
   "metadata": {},
   "source": [
    "接下来，我们根据最小二乘法求得的结果，将拟合直线绘制到原分布散点图中"
   ]
  },
  {
   "cell_type": "code",
   "execution_count": 13,
   "metadata": {},
   "outputs": [
    {
     "data": {
      "text/plain": [
       "[<matplotlib.lines.Line2D at 0x180bd3a7cd0>]"
      ]
     },
     "execution_count": 13,
     "metadata": {},
     "output_type": "execute_result"
    },
    {
     "data": {
      "image/png": "[encoded data removed]",
      "text/plain": [
       "<Figure size 1600x400 with 3 Axes>"
      ]
     },
     "metadata": {},
     "output_type": "display_data"
    }
   ],
   "source": [
    "from matplotlib import pyplot as plt\n",
    "%matplotlib inline\n",
    "\n",
    "fig, axes = plt.subplots(1, 3, figsize=(16, 4)) \n",
    "\n",
    "df.plot(kind='scatter', x='tv', y='sales', ax=axes[0], title='TV vs Sales')\n",
    "df.plot(kind='scatter', x='radio', y='sales', ax=axes[1], title='Radio vs Sales')\n",
    "df.plot(kind='scatter', x='newspaper', y='sales', ax=axes[2], title='Newspaper vs Sales')\n",
    "\n",
    "x_tv = np.array([df.tv.min(), df.tv.max()])\n",
    "axes[0].plot(x_tv, params_tv[0][1]*x_tv + params_tv[0][0], color='red')\n",
    "\n",
    "x_radio = np.array([df.radio.min(), df.radio.max()])\n",
    "axes[1].plot(x_radio, params_radio[0][1]*x_radio + params_radio[0][0], color='red', linewidth=2)\n",
    "\n",
    "x_newspaper = np.array([df.newspaper.min(), df.newspaper.max()])\n",
    "axes[2].plot(x_newspaper, params_newspaper[0][1]*x_newspaper + params_newspaper[0][0], color='red', linewidth=2)\n"
   ]
  },
  {
   "cell_type": "markdown",
   "metadata": {},
   "source": [
    "接下来，我们尝试建立包含全部特征的多元线性回归模型\n",
    "$$y = w_0 + w_1*tv + w_2*radio + w_3*newspaper$$"
   ]
  },
  {
   "cell_type": "code",
   "execution_count": 14,
   "metadata": {},
   "outputs": [
    {
     "data": {
      "text/plain": [
       "(array([ 0.04576465,  0.18853002, -0.00103749]), 2.9388893694594103)"
      ]
     },
     "execution_count": 14,
     "metadata": {},
     "output_type": "execute_result"
    }
   ],
   "source": [
    "from sklearn.linear_model import LinearRegression\n",
    "\n",
    "model = LinearRegression()\n",
    "\n",
    "X = df[['tv', 'radio', 'newspaper']]\n",
    "y = df.sales\n",
    "model.fit(X, y)\n",
    "\n",
    "model.coef_, model.intercept_"
   ]
  },
  {
   "cell_type": "markdown",
   "metadata": {},
   "source": [
    "接下来，我们希望对多元线性回归模型进行检验。使用 statsmodels 库提供的相关方法来完成拟合优度检验和变量显著性检验。"
   ]
  },
  {
   "cell_type": "code",
   "execution_count": 15,
   "metadata": {},
   "outputs": [
    {
     "data": {
      "text/html": [
       "<table class=\"simpletable\">\n",
       "<tr>\n",
       "        <td>Model:</td>               <td>OLS</td>         <td>Adj. R-squared:</td>     <td>0.896</td> \n",
       "</tr>\n",
       "<tr>\n",
       "  <td>Dependent Variable:</td>       <td>sales</td>             <td>AIC:</td>         <td>780.3622</td>\n",
       "</tr>\n",
       "<tr>\n",
       "         <td>Date:</td>        <td>2025-03-06 11:04</td>        <td>BIC:</td>         <td>793.5555</td>\n",
       "</tr>\n",
       "<tr>\n",
       "   <td>No. Observations:</td>         <td>200</td>         <td>Log-Likelihood:</td>    <td>-386.18</td>\n",
       "</tr>\n",
       "<tr>\n",
       "       <td>Df Model:</td>              <td>3</td>           <td>F-statistic:</td>       <td>570.3</td> \n",
       "</tr>\n",
       "<tr>\n",
       "     <td>Df Residuals:</td>           <td>196</td>       <td>Prob (F-statistic):</td> <td>1.58e-96</td>\n",
       "</tr>\n",
       "<tr>\n",
       "      <td>R-squared:</td>            <td>0.897</td>            <td>Scale:</td>         <td>2.8409</td> \n",
       "</tr>\n",
       "</table>\n",
       "<table class=\"simpletable\">\n",
       "<tr>\n",
       "      <td></td>       <th>Coef.</th>  <th>Std.Err.</th>    <th>t</th>     <th>P>|t|</th> <th>[0.025</th>  <th>0.975]</th>\n",
       "</tr>\n",
       "<tr>\n",
       "  <th>Intercept</th> <td>2.9389</td>   <td>0.3119</td>  <td>9.4223</td>  <td>0.0000</td> <td>2.3238</td>  <td>3.5540</td>\n",
       "</tr>\n",
       "<tr>\n",
       "  <th>tv</th>        <td>0.0458</td>   <td>0.0014</td>  <td>32.8086</td> <td>0.0000</td> <td>0.0430</td>  <td>0.0485</td>\n",
       "</tr>\n",
       "<tr>\n",
       "  <th>radio</th>     <td>0.1885</td>   <td>0.0086</td>  <td>21.8935</td> <td>0.0000</td> <td>0.1715</td>  <td>0.2055</td>\n",
       "</tr>\n",
       "<tr>\n",
       "  <th>newspaper</th> <td>-0.0010</td>  <td>0.0059</td>  <td>-0.1767</td> <td>0.8599</td> <td>-0.0126</td> <td>0.0105</td>\n",
       "</tr>\n",
       "</table>\n",
       "<table class=\"simpletable\">\n",
       "<tr>\n",
       "     <td>Omnibus:</td>    <td>60.414</td>  <td>Durbin-Watson:</td>    <td>2.084</td> \n",
       "</tr>\n",
       "<tr>\n",
       "  <td>Prob(Omnibus):</td>  <td>0.000</td> <td>Jarque-Bera (JB):</td> <td>151.241</td>\n",
       "</tr>\n",
       "<tr>\n",
       "       <td>Skew:</td>     <td>-1.327</td>     <td>Prob(JB):</td>      <td>0.000</td> \n",
       "</tr>\n",
       "<tr>\n",
       "     <td>Kurtosis:</td>    <td>6.332</td>  <td>Condition No.:</td>     <td>454</td>  \n",
       "</tr>\n",
       "</table><br/>\n",
       "Notes:<br/>\n",
       "[1] Standard Errors assume that the covariance matrix of the errors is correctly specified."
      ],
      "text/latex": [
       "\\begin{table}\n",
       "\\caption{Results: Ordinary least squares}\n",
       "\\label{}\n",
       "\\begin{center}\n",
       "\\begin{tabular}{llll}\n",
       "\\hline\n",
       "Model:              & OLS              & Adj. R-squared:     & 0.896     \\\\\n",
       "Dependent Variable: & sales            & AIC:                & 780.3622  \\\\\n",
       "Date:               & 2025-03-06 11:04 & BIC:                & 793.5555  \\\\\n",
       "No. Observations:   & 200              & Log-Likelihood:     & -386.18   \\\\\n",
       "Df Model:           & 3                & F-statistic:        & 570.3     \\\\\n",
       "Df Residuals:       & 196              & Prob (F-statistic): & 1.58e-96  \\\\\n",
       "R-squared:          & 0.897            & Scale:              & 2.8409    \\\\\n",
       "\\hline\n",
       "\\end{tabular}\n",
       "\\end{center}\n",
       "\n",
       "\\begin{center}\n",
       "\\begin{tabular}{lrrrrrr}\n",
       "\\hline\n",
       "          &   Coef. & Std.Err. &       t & P$> |$t$|$ &  [0.025 & 0.975]  \\\\\n",
       "\\hline\n",
       "Intercept &  2.9389 &   0.3119 &  9.4223 &      0.0000 &  2.3238 & 3.5540  \\\\\n",
       "tv        &  0.0458 &   0.0014 & 32.8086 &      0.0000 &  0.0430 & 0.0485  \\\\\n",
       "radio     &  0.1885 &   0.0086 & 21.8935 &      0.0000 &  0.1715 & 0.2055  \\\\\n",
       "newspaper & -0.0010 &   0.0059 & -0.1767 &      0.8599 & -0.0126 & 0.0105  \\\\\n",
       "\\hline\n",
       "\\end{tabular}\n",
       "\\end{center}\n",
       "\n",
       "\\begin{center}\n",
       "\\begin{tabular}{llll}\n",
       "\\hline\n",
       "Omnibus:       & 60.414 & Durbin-Watson:    & 2.084    \\\\\n",
       "Prob(Omnibus): & 0.000  & Jarque-Bera (JB): & 151.241  \\\\\n",
       "Skew:          & -1.327 & Prob(JB):         & 0.000    \\\\\n",
       "Kurtosis:      & 6.332  & Condition No.:    & 454      \\\\\n",
       "\\hline\n",
       "\\end{tabular}\n",
       "\\end{center}\n",
       "\\end{table}\n",
       "\\bigskip\n",
       "Notes: \\newline \n",
       "[1] Standard Errors assume that the covariance matrix of the errors is correctly specified."
      ],
      "text/plain": [
       "<class 'statsmodels.iolib.summary2.Summary'>\n",
       "\"\"\"\n",
       "                 Results: Ordinary least squares\n",
       "=================================================================\n",
       "Model:              OLS              Adj. R-squared:     0.896   \n",
       "Dependent Variable: sales            AIC:                780.3622\n",
       "Date:               2025-03-06 11:04 BIC:                793.5555\n",
       "No. Observations:   200              Log-Likelihood:     -386.18 \n",
       "Df Model:           3                F-statistic:        570.3   \n",
       "Df Residuals:       196              Prob (F-statistic): 1.58e-96\n",
       "R-squared:          0.897            Scale:              2.8409  \n",
       "------------------------------------------------------------------\n",
       "                Coef.   Std.Err.     t     P>|t|    [0.025  0.975]\n",
       "------------------------------------------------------------------\n",
       "Intercept       2.9389    0.3119   9.4223  0.0000   2.3238  3.5540\n",
       "tv              0.0458    0.0014  32.8086  0.0000   0.0430  0.0485\n",
       "radio           0.1885    0.0086  21.8935  0.0000   0.1715  0.2055\n",
       "newspaper      -0.0010    0.0059  -0.1767  0.8599  -0.0126  0.0105\n",
       "-----------------------------------------------------------------\n",
       "Omnibus:             60.414       Durbin-Watson:          2.084  \n",
       "Prob(Omnibus):       0.000        Jarque-Bera (JB):       151.241\n",
       "Skew:                -1.327       Prob(JB):               0.000  \n",
       "Kurtosis:            6.332        Condition No.:          454    \n",
       "=================================================================\n",
       "Notes:\n",
       "[1] Standard Errors assume that the covariance matrix of the\n",
       "errors is correctly specified.\n",
       "\"\"\""
      ]
     },
     "execution_count": 15,
     "metadata": {},
     "output_type": "execute_result"
    }
   ],
   "source": [
    "import statsmodels.formula.api as smf\n",
    "\n",
    "results = smf.ols(formula='sales~tv + radio + newspaper', data=df).fit()\n",
    "\n",
    "results.summary2()"
   ]
  }
 ],
 "metadata": {
  "kernelspec": {
   "display_name": "base",
   "language": "python",
   "name": "python3"
  },
  "language_info": {
   "codemirror_mode": {
    "name": "ipython",
    "version": 3
   },
   "file_extension": ".py",
   "mimetype": "text/x-python",
   "name": "python",
   "nbconvert_exporter": "python",
   "pygments_lexer": "ipython3",
   "version": "3.11.5"
  }
 },
 "nbformat": 4,
 "nbformat_minor": 2
}
