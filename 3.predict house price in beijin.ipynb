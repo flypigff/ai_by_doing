{
 "cells": [
  {
   "cell_type": "markdown",
   "metadata": {},
   "source": [
    "这是一个测试\n",
    "# 下载数据集"
   ]
  },
  {
   "cell_type": "code",
   "execution_count": 3,
   "metadata": {},
   "outputs": [
    {
     "data": {
      "text/html": [
       "<div>\n",
       "<style scoped>\n",
       "    .dataframe tbody tr th:only-of-type {\n",
       "        vertical-align: middle;\n",
       "    }\n",
       "\n",
       "    .dataframe tbody tr th {\n",
       "        vertical-align: top;\n",
       "    }\n",
       "\n",
       "    .dataframe thead th {\n",
       "        text-align: right;\n",
       "    }\n",
       "</style>\n",
       "<table border=\"1\" class=\"dataframe\">\n",
       "  <thead>\n",
       "    <tr style=\"text-align: right;\">\n",
       "      <th></th>\n",
       "      <th>公交</th>\n",
       "      <th>写字楼</th>\n",
       "      <th>医院</th>\n",
       "      <th>商场</th>\n",
       "      <th>地铁</th>\n",
       "      <th>学校</th>\n",
       "      <th>小区名字</th>\n",
       "      <th>建造时间</th>\n",
       "      <th>房型</th>\n",
       "      <th>楼层</th>\n",
       "      <th>每平米价格</th>\n",
       "      <th>面积</th>\n",
       "    </tr>\n",
       "  </thead>\n",
       "  <tbody>\n",
       "    <tr>\n",
       "      <th>0</th>\n",
       "      <td>18</td>\n",
       "      <td>18</td>\n",
       "      <td>10</td>\n",
       "      <td>0</td>\n",
       "      <td>2</td>\n",
       "      <td>49</td>\n",
       "      <td>远洋山水</td>\n",
       "      <td>2006</td>\n",
       "      <td>2室1厅</td>\n",
       "      <td>26</td>\n",
       "      <td>60937</td>\n",
       "      <td>96</td>\n",
       "    </tr>\n",
       "    <tr>\n",
       "      <th>1</th>\n",
       "      <td>17</td>\n",
       "      <td>42</td>\n",
       "      <td>10</td>\n",
       "      <td>0</td>\n",
       "      <td>4</td>\n",
       "      <td>37</td>\n",
       "      <td>椿树园</td>\n",
       "      <td>1998</td>\n",
       "      <td>3室1厅</td>\n",
       "      <td>14</td>\n",
       "      <td>88686</td>\n",
       "      <td>130</td>\n",
       "    </tr>\n",
       "    <tr>\n",
       "      <th>2</th>\n",
       "      <td>18</td>\n",
       "      <td>36</td>\n",
       "      <td>9</td>\n",
       "      <td>0</td>\n",
       "      <td>1</td>\n",
       "      <td>24</td>\n",
       "      <td>永乐小区</td>\n",
       "      <td>1989</td>\n",
       "      <td>3室1厅</td>\n",
       "      <td>18</td>\n",
       "      <td>46621</td>\n",
       "      <td>74</td>\n",
       "    </tr>\n",
       "    <tr>\n",
       "      <th>3</th>\n",
       "      <td>15</td>\n",
       "      <td>49</td>\n",
       "      <td>13</td>\n",
       "      <td>0</td>\n",
       "      <td>2</td>\n",
       "      <td>45</td>\n",
       "      <td>主语家园</td>\n",
       "      <td>2007</td>\n",
       "      <td>4室3厅</td>\n",
       "      <td>2</td>\n",
       "      <td>86147</td>\n",
       "      <td>462</td>\n",
       "    </tr>\n",
       "    <tr>\n",
       "      <th>4</th>\n",
       "      <td>6</td>\n",
       "      <td>0</td>\n",
       "      <td>0</td>\n",
       "      <td>0</td>\n",
       "      <td>0</td>\n",
       "      <td>0</td>\n",
       "      <td>天伦锦城</td>\n",
       "      <td>2007</td>\n",
       "      <td>1室1厅</td>\n",
       "      <td>13</td>\n",
       "      <td>42500</td>\n",
       "      <td>64</td>\n",
       "    </tr>\n",
       "  </tbody>\n",
       "</table>\n",
       "</div>"
      ],
      "text/plain": [
       "   公交  写字楼  医院  商场  地铁  学校  小区名字  建造时间    房型  楼层  每平米价格   面积\n",
       "0  18   18  10   0   2  49  远洋山水  2006  2室1厅  26  60937   96\n",
       "1  17   42  10   0   4  37   椿树园  1998  3室1厅  14  88686  130\n",
       "2  18   36   9   0   1  24  永乐小区  1989  3室1厅  18  46621   74\n",
       "3  15   49  13   0   2  45  主语家园  2007  4室3厅   2  86147  462\n",
       "4   6    0   0   0   0   0  天伦锦城  2007  1室1厅  13  42500   64"
      ]
     },
     "execution_count": 3,
     "metadata": {},
     "output_type": "execute_result"
    }
   ],
   "source": [
    "import pandas as pd\n",
    "import requests\n",
    "from io import StringIO\n",
    "\n",
    "url = \"https://cdn.aibydoing.com/aibydoing/files/challenge-1-beijing.csv\"\n",
    "\n",
    "# 模拟浏览器头\n",
    "headers = {\n",
    "    \"User-Agent\": \"Mozilla/5.0 (Windows NT 10.0; Win64; x64) AppleWebKit/537.36 (KHTML, like Gecko) Chrome/58.0.3029.110 Safari/537.3\"\n",
    "}\n",
    "\n",
    "# 发送HTTP请求并获取响应\n",
    "response = requests.get(url, headers=headers)\n",
    "\n",
    "# 将响应内容解析为DataFrame\n",
    "df = pd.read_csv(StringIO(response.text))\n",
    "\n",
    "df.head()"
   ]
  },
  {
   "cell_type": "markdown",
   "metadata": {},
   "source": [
    "# 数据集划分"
   ]
  },
  {
   "cell_type": "code",
   "execution_count": 4,
   "metadata": {},
   "outputs": [
    {
     "data": {
      "text/html": [
       "<div>\n",
       "<style scoped>\n",
       "    .dataframe tbody tr th:only-of-type {\n",
       "        vertical-align: middle;\n",
       "    }\n",
       "\n",
       "    .dataframe tbody tr th {\n",
       "        vertical-align: top;\n",
       "    }\n",
       "\n",
       "    .dataframe thead th {\n",
       "        text-align: right;\n",
       "    }\n",
       "</style>\n",
       "<table border=\"1\" class=\"dataframe\">\n",
       "  <thead>\n",
       "    <tr style=\"text-align: right;\">\n",
       "      <th></th>\n",
       "      <th>公交</th>\n",
       "      <th>写字楼</th>\n",
       "      <th>医院</th>\n",
       "      <th>商场</th>\n",
       "      <th>地铁</th>\n",
       "      <th>学校</th>\n",
       "      <th>建造时间</th>\n",
       "      <th>楼层</th>\n",
       "      <th>面积</th>\n",
       "      <th>每平米价格</th>\n",
       "    </tr>\n",
       "  </thead>\n",
       "  <tbody>\n",
       "    <tr>\n",
       "      <th>0</th>\n",
       "      <td>18</td>\n",
       "      <td>18</td>\n",
       "      <td>10</td>\n",
       "      <td>0</td>\n",
       "      <td>2</td>\n",
       "      <td>49</td>\n",
       "      <td>2006</td>\n",
       "      <td>26</td>\n",
       "      <td>96</td>\n",
       "      <td>60937</td>\n",
       "    </tr>\n",
       "    <tr>\n",
       "      <th>1</th>\n",
       "      <td>17</td>\n",
       "      <td>42</td>\n",
       "      <td>10</td>\n",
       "      <td>0</td>\n",
       "      <td>4</td>\n",
       "      <td>37</td>\n",
       "      <td>1998</td>\n",
       "      <td>14</td>\n",
       "      <td>130</td>\n",
       "      <td>88686</td>\n",
       "    </tr>\n",
       "    <tr>\n",
       "      <th>2</th>\n",
       "      <td>18</td>\n",
       "      <td>36</td>\n",
       "      <td>9</td>\n",
       "      <td>0</td>\n",
       "      <td>1</td>\n",
       "      <td>24</td>\n",
       "      <td>1989</td>\n",
       "      <td>18</td>\n",
       "      <td>74</td>\n",
       "      <td>46621</td>\n",
       "    </tr>\n",
       "    <tr>\n",
       "      <th>3</th>\n",
       "      <td>15</td>\n",
       "      <td>49</td>\n",
       "      <td>13</td>\n",
       "      <td>0</td>\n",
       "      <td>2</td>\n",
       "      <td>45</td>\n",
       "      <td>2007</td>\n",
       "      <td>2</td>\n",
       "      <td>462</td>\n",
       "      <td>86147</td>\n",
       "    </tr>\n",
       "    <tr>\n",
       "      <th>4</th>\n",
       "      <td>6</td>\n",
       "      <td>0</td>\n",
       "      <td>0</td>\n",
       "      <td>0</td>\n",
       "      <td>0</td>\n",
       "      <td>0</td>\n",
       "      <td>2007</td>\n",
       "      <td>13</td>\n",
       "      <td>64</td>\n",
       "      <td>42500</td>\n",
       "    </tr>\n",
       "  </tbody>\n",
       "</table>\n",
       "</div>"
      ],
      "text/plain": [
       "   公交  写字楼  医院  商场  地铁  学校  建造时间  楼层   面积  每平米价格\n",
       "0  18   18  10   0   2  49  2006  26   96  60937\n",
       "1  17   42  10   0   4  37  1998  14  130  88686\n",
       "2  18   36   9   0   1  24  1989  18   74  46621\n",
       "3  15   49  13   0   2  45  2007   2  462  86147\n",
       "4   6    0   0   0   0   0  2007  13   64  42500"
      ]
     },
     "execution_count": 4,
     "metadata": {},
     "output_type": "execute_result"
    }
   ],
   "source": [
    "features = df[['公交','写字楼','医院','商场','地铁','学校','建造时间','楼层','面积']]\n",
    "target = df['每平米价格']\n",
    "pd.concat([features, target], axis=1).head() #用于将两个 DataFrame 或 Series ​按列（axis=1）​​ 拼接在一起，并显示拼接后的前几行数据（默认是前 5 行）"
   ]
  },
  {
   "cell_type": "code",
   "execution_count": 5,
   "metadata": {},
   "outputs": [
    {
     "data": {
      "text/plain": [
       "(2100, 900, 2100, 900)"
      ]
     },
     "execution_count": 5,
     "metadata": {},
     "output_type": "execute_result"
    }
   ],
   "source": [
    "split_num = int(len(features) * 0.7)\n",
    "x_train, x_test, y_train, y_test = features[:split_num], features[split_num:], target[:split_num], target[split_num:]\n",
    "len(x_train), len(x_test), len(y_train), len(y_test)"
   ]
  },
  {
   "cell_type": "markdown",
   "metadata": {},
   "source": [
    "# 构建和训练模型"
   ]
  },
  {
   "cell_type": "code",
   "execution_count": 6,
   "metadata": {},
   "outputs": [
    {
     "data": {
      "text/plain": [
       "(array([  6.59398431, 299.47265083, 371.60427218]), 9)"
      ]
     },
     "execution_count": 6,
     "metadata": {},
     "output_type": "execute_result"
    }
   ],
   "source": [
    "from sklearn.linear_model import LinearRegression\n",
    "\n",
    "model = LinearRegression()\n",
    "model.fit(x_train, y_train)\n",
    "preds = model.predict(x_test)\n",
    "model.coef_[:3], len(model.coef_)"
   ]
  },
  {
   "cell_type": "markdown",
   "metadata": {},
   "source": [
    "# 模型评价\n",
    "用MAPE(平均绝对百分比误差)来评估，MAPE 是一个百分比值，因此比其他统计量更容易理解。例如，如果 MAPE 为5 ，则表示预测结果较真实结果平均偏离5%\n",
    "MAPE 的计算公式如下：\n",
    "MAPE = 100 * (|y_pred - y_true| / y_true)\n"
   ]
  },
  {
   "cell_type": "code",
   "execution_count": 7,
   "metadata": {},
   "outputs": [
    {
     "data": {
      "text/plain": [
       "45.50618854676239"
      ]
     },
     "execution_count": 7,
     "metadata": {},
     "output_type": "execute_result"
    }
   ],
   "source": [
    "import numpy as np\n",
    "\n",
    "def mape(y_true, y_pred):\n",
    "    \"\"\"\n",
    "    参数：\n",
    "    y_true -- 测试集目标真实值\n",
    "    y_pred -- 测试集目标预测值\n",
    "    \n",
    "    返回：\n",
    "    mape -- MAPE 评价指标\n",
    "    \"\"\"\n",
    "    \n",
    "    ### 代码开始 ### (≈ 2 行代码)\n",
    "    n = len(y_true)\n",
    "    mape = 100 * np.sum(np.abs((y_true-y_pred)/y_true)) / n\n",
    "    ### 代码结束 ###\n",
    "    \n",
    "    return mape\n",
    "y_true = y_test.values\n",
    "y_pred = model.predict(x_test)\n",
    "mape(y_true, y_pred)\n"
   ]
  },
  {
   "cell_type": "markdown",
   "metadata": {},
   "source": [
    "可以看到，最终得到的 MAPE 值较大，意味着预测的偏移量较大。在线性回归实验中，我们提到预测结果较差的一个原因可能是数据没有经过预处理。除此之外，线性回归本身就是一种非常基础简单的预测方法。对于房价这种包含多个特征的预测问题，我们往往要使用更复杂的方法来进行回归预测才能得到更好的结果。"
   ]
  }
 ],
 "metadata": {
  "kernelspec": {
   "display_name": "base",
   "language": "python",
   "name": "python3"
  },
  "language_info": {
   "codemirror_mode": {
    "name": "ipython",
    "version": 3
   },
   "file_extension": ".py",
   "mimetype": "text/x-python",
   "name": "python",
   "nbconvert_exporter": "python",
   "pygments_lexer": "ipython3",
   "version": "3.11.5"
  }
 },
 "nbformat": 4,
 "nbformat_minor": 2
}
